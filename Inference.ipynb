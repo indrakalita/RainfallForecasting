{
 "cells": [
  {
   "cell_type": "code",
   "execution_count": null,
   "id": "93dee7e6-4791-41a5-b8ad-3359ce1f2392",
   "metadata": {},
   "outputs": [],
   "source": [
    "import numpy as np\n",
    "import os\n",
    "import pickle\n",
    "import matplotlib.pyplot as plt\n",
    "import matplotlib.colors as mcolors\n",
    "import torch\n",
    "import torch.nn as nn\n",
    "import torch.optim as optim\n",
    "from torch.utils.data import DataLoader, Dataset, random_split, TensorDataset\n",
    "import torch.nn.functional as F\n",
    "import torchvision.models\n",
    "import netCDF4 as nc4\n",
    "from scipy.ndimage import zoom\n",
    "from datetime import datetime\n",
    "import utils as ut\n",
    "import dependency as dep\n",
    "import models64 as models\n",
    "device = torch.device(\"cuda\" if torch.cuda.is_available() else \"CPU\")"
   ]
  },
  {
   "cell_type": "code",
   "execution_count": null,
   "id": "00d1adcd-0756-4d9e-b858-172daae7f450",
   "metadata": {},
   "outputs": [],
   "source": [
    "def visual(Bar=False, save_path=None, **images):\n",
    "    \"\"\"Plot images in one row with a single color bar and optionally save the plot.\"\"\"\n",
    "    n = len(images)\n",
    "    plt.figure(figsize=(16, 5))\n",
    "    \n",
    "    # Find the common color range\n",
    "    vmin = min(image.min() for image in images.values())\n",
    "    vmax = max(image.max() for image in images.values())\n",
    "    \n",
    "    # Generate random locations once\n",
    "    first_image = list(images.values())[0]\n",
    "    x_locs = np.random.randint(0, first_image.shape[1], 3)\n",
    "    y_locs = np.random.randint(0, first_image.shape[0], 3)\n",
    "    \n",
    "    for i, (name, image) in enumerate(images.items()):\n",
    "        plt.subplot(1, n, i + 1)\n",
    "        plt.xticks([])\n",
    "        plt.yticks([])\n",
    "        if '_' in name:\n",
    "            base_name, suffix = name.rsplit('_', 1)  # Split name and suffix\n",
    "            plt.title(f\"{base_name}$_{{{suffix}}}$\")\n",
    "        else:\n",
    "            plt.title(name)\n",
    "        \n",
    "        img = plt.imshow(image, cmap='viridis', vmin=vmin, vmax=vmax)  # Use common color range\n",
    "        \n",
    "    if Bar:\n",
    "        cbar = plt.colorbar(img, ax=plt.gca(), orientation='vertical', fraction=0.02, pad=0.04)\n",
    "        cbar.ax.tick_params(labelsize=15)\n",
    "    \n",
    "    if save_path:\n",
    "        plt.savefig(save_path, bbox_inches='tight', dpi=1000)\n",
    "    \n",
    "    plt.show()\n"
   ]
  },
  {
   "cell_type": "code",
   "execution_count": null,
   "id": "0150bed3-b044-43f6-b31a-21d7b77ccdbf",
   "metadata": {},
   "outputs": [],
   "source": [
    "#Dataset paths\n",
    "GPM = '/GPM dataset path/' #GPM file path\n",
    "TIG = '/TIGG dataset path/'  #TIGG file path"
   ]
  },
  {
   "cell_type": "code",
   "execution_count": null,
   "id": "2953d4db-2db7-46a8-be7e-848bbf1182a8",
   "metadata": {},
   "outputs": [],
   "source": [
    "# First do the evaluation for TIGG dataset\n",
    "GroundTrutn, TIGG_Pred, Date_Position, TargetDate = dep.Evaluation(GPM, TIG, \n",
    "                                            GPM_zoom=True, GPM_desired_shape = (64, 64),\n",
    "                                            TIG_zoom=True, TIG_desired_shape = (64, 64))\n",
    "\n",
    "Random_Prediction, Random_GT = dep.RandomEvaluation(GPM, TargetDate, GPM_zoom=True, GPM_desired_shape = (64, 64))"
   ]
  },
  {
   "cell_type": "code",
   "execution_count": null,
   "id": "f82347bf-4d3d-403e-af99-365afa88d814",
   "metadata": {},
   "outputs": [],
   "source": [
    "## For model. First load the model and the test_loader\n",
    "model, test_loader, Gmean, Gstd, norm = dep.load_model()\n",
    "# Ensemble of trained models\n",
    "model3, test_loader3, _, _, _ = dep.load_model()"
   ]
  },
  {
   "cell_type": "code",
   "execution_count": null,
   "id": "f483893f-072a-4e9a-a2eb-8205464f886a",
   "metadata": {},
   "outputs": [],
   "source": [
    "# For model. First select the date that is available in TIGG and then create the loader and evaluate\n",
    "subset_inputs, subset_targets = dep.extract_ordered_subset_from_loader(test_loader, Date_Position)\n",
    "subset_dataset = TensorDataset(subset_inputs, subset_targets)\n",
    "\n",
    "subset_inputs3, subset_targets3 = dep.extract_ordered_subset_from_loader(test_loader3, Date_Position)\n",
    "subset_dataset3 = TensorDataset(subset_inputs3, subset_targets3)\n",
    "# Create a DataLoader with the subset dataset based on TIGG data\n",
    "subset_loader = DataLoader(subset_dataset, batch_size=1, shuffle=False)\n",
    "subset_loader3 = DataLoader(subset_dataset3, batch_size=1, shuffle=False)\n",
    "def ModelPredict(subset_loader, model):\n",
    "    Data = list() # For prediction\n",
    "    Target = list() # For Ground Truth\n",
    "    C = 0\n",
    "    for input, target in subset_loader:\n",
    "            input, target = input.to(device),target.to(device)\n",
    "            output = model(input)\n",
    "            T,P = target[0,0].cpu().detach().numpy(), output[0,0].cpu().detach().numpy()\n",
    "            if norm == 'znorm':\n",
    "                T,P = ut.iznorm(T, Gmean, Gstd), ut.iznorm(P, Gmean, Gstd)\n",
    "            if norm == 'norm':\n",
    "                T,P = ut.inorm(T, Gmean, Gstd), ut.inorm(P, Gmean, Gstd)\n",
    "            Data.append(P)\n",
    "            Target.append(T)\n",
    "    return np.array(Data), np.array(Target)\n",
    "ModelPrediction, Model_GT = ModelPredict(subset_loader, model)\n",
    "ModelPrediction3, _ = ModelPredict(subset_loader3, model3)"
   ]
  },
  {
   "cell_type": "code",
   "execution_count": null,
   "id": "428ea3ef-e577-4954-94d1-83b326d6e8e9",
   "metadata": {},
   "outputs": [],
   "source": [
    "#Ensemble function\n",
    "th= 0.1 #(Weighted)\n",
    "weights = np.array([th, 1.0-th])\n",
    "model_outputs = [TIGG_Pred, ModelPrediction3]\n",
    "stacked_outputs = np.stack(model_outputs, axis=0)\n",
    "print(stacked_outputs.shape)\n",
    "ensemble_avg = np.tensordot(weights, stacked_outputs, axes=(0, 0))\n",
    "print(ensemble_avg.shape)\n",
    "\n",
    "I = [49, 14, 34] # select some image number to be visualized\n",
    "for r in range(0,3):\n",
    "    #i = np.random.randint(0, len(ModelPrediction))\n",
    "    i = I[r]\n",
    "    print(i)\n",
    "    PATH = None#'./Result/SamplePredImage'+str(i)+'.png'\n",
    "    visual(Bar=True, save_path=PATH, GT=Model_GT[i],NWP=TIGG_Pred[i], CLIM=Random_Prediction[i], UNET_30=ModelPrediction[i], UNET_12=ModelPrediction3[i],\n",
    "           Ens = ensemble_avg[i])"
   ]
  },
  {
   "cell_type": "code",
   "execution_count": null,
   "id": "bec09010-effb-4a61-9fb4-b874956353f4",
   "metadata": {},
   "outputs": [],
   "source": [
    "#The Evaluation. MAE (GroundTruth, Prediction)\n",
    "TIGG_MAE,random_MAE =dep.mae(Model_GT,TIGG_Pred),dep.mae(Random_GT,Random_Prediction)\n",
    "model_MAE, model_MAE3=dep.mae(Model_GT, ModelPrediction),dep.mae(Model_GT, ModelPrediction3)\n",
    "print('MAE results of \\n 1. TIGG, 2. Climatology, 3. MidNight Model, 4. Night Model, 5. Ensemble Model')\n",
    "print(TIGG_MAE,'|', random_MAE,'|', model_MAE,'|',model_MAE3, dep.mae(Model_GT,ensemble_avg))"
   ]
  },
  {
   "cell_type": "code",
   "execution_count": null,
   "id": "5bc15bf1-aa7e-48ab-8f08-229b3fda1278",
   "metadata": {},
   "outputs": [],
   "source": [
    "# Define custom bin edges\n",
    "bin_edges = [-1, 0, 1] + list(np.linspace(3, 5, num=48))\n",
    "# Target and Data should be numpy arrays of shape (N, W, H)\n",
    "hist1, bin_edges1 = dep.compute_histogram(GroundTrutn, TIGG_Pred, bin_edges, Print=False, Hist=False)\n",
    "hist2, bin_edges2 = dep.compute_histogram(Random_GT, Random_Prediction, bin_edges, Print=False, Hist=False)\n",
    "hist3, bin_edges3 = dep.compute_histogram(Model_GT, ModelPrediction, bin_edges, Print=False, Hist=False)\n",
    "hist6, bin_edges6 = dep.compute_histogram(Model_GT, ModelPrediction3, bin_edges, Print=False, Hist=False)\n",
    "hist7, bin_edges7 = dep.compute_histogram(Model_GT, ensemble_avg, bin_edges, Print=False, Hist=False)\n",
    "\n",
    "print('Number of samples in the range: A: -1 to 0; B: 0 to 1')\n",
    "print('TIGG:', hist1[0],hist1[1], '\\n Climatology:', hist2[0],hist2[1],\n",
    "      '\\n MidNight:', hist3[0],hist3[1], '\\n Night:', hist6[0],hist6[1], '\\n Ensemble:', hist7[0],hist7[1])"
   ]
  },
  {
   "cell_type": "code",
   "execution_count": null,
   "id": "54359768-6340-44a5-9834-5e06c680d77c",
   "metadata": {},
   "outputs": [],
   "source": [
    "#The Evaluation: TS/CSI, FPR, POD (GroundTruth, Prediction, threshold)\n",
    "#1/100 (0.01) of an inch of rain – The first measurable amount of rainfall reported by The National Weather Service\n",
    "th = 0.5 # 0r 10\n",
    "thresholds = [th] #, 0.1, 0.2, 1\n",
    "print('CSI, Precision, Recall, F1 of TIGG model at th=',th)\n",
    "print(dep.score_calculate(GroundTrutn,TIGG_Pred, thresholds))\n",
    "print('CSI, Precision, Recall, F1 of Climatology model at th=',th)\n",
    "print(dep.score_calculate(Random_GT,Random_Prediction, thresholds))\n",
    "print('CSI, Precision, Recall, F1 of MidNight model at th=',th)\n",
    "print(dep.score_calculate(Model_GT, ModelPrediction, thresholds))\n",
    "print('CSI, Precision, Recall, F1 of Night model at th=',th)\n",
    "print(dep.score_calculate(Model_GT, ModelPrediction3, thresholds))\n",
    "print('CSI, Precision, Recall, F1 of Ensemble model at th=',th)\n",
    "print(dep.score_calculate(Model_GT, ensemble_avg, thresholds))"
   ]
  }
 ],
 "metadata": {
  "kernelspec": {
   "display_name": "Python 3 (ipykernel)",
   "language": "python",
   "name": "python3"
  },
  "language_info": {
   "codemirror_mode": {
    "name": "ipython",
    "version": 3
   },
   "file_extension": ".py",
   "mimetype": "text/x-python",
   "name": "python",
   "nbconvert_exporter": "python",
   "pygments_lexer": "ipython3",
   "version": "3.8.10"
  }
 },
 "nbformat": 4,
 "nbformat_minor": 5
}
